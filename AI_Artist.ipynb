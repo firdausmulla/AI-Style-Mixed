{
  "nbformat": 4,
  "nbformat_minor": 0,
  "metadata": {
    "colab": {
      "provenance": [],
      "authorship_tag": "ABX9TyOwevhI2hilHlShf4AbXm5g",
      "include_colab_link": true
    },
    "kernelspec": {
      "name": "python3",
      "display_name": "Python 3"
    },
    "language_info": {
      "name": "python"
    }
  },
  "cells": [
    {
      "cell_type": "markdown",
      "metadata": {
        "id": "view-in-github",
        "colab_type": "text"
      },
      "source": [
        "<a href=\"https://colab.research.google.com/github/firdausmulla/AI-Style-Mixed/blob/main/AI_Artist.ipynb\" target=\"_parent\"><img src=\"https://colab.research.google.com/assets/colab-badge.svg\" alt=\"Open In Colab\"/></a>"
      ]
    },
    {
      "cell_type": "code",
      "source": [
        "# Cell 1: Install All Libraries\n",
        "!pip install flask pyngrok tensorflow tensorflow_hub"
      ],
      "metadata": {
        "colab": {
          "base_uri": "https://localhost:8080/"
        },
        "id": "YFt0O0G2wXbX",
        "outputId": "2178845c-eff3-4e26-efc7-0da9b5cfd40e"
      },
      "execution_count": 1,
      "outputs": [
        {
          "output_type": "stream",
          "name": "stdout",
          "text": [
            "Requirement already satisfied: flask in /usr/local/lib/python3.12/dist-packages (3.1.2)\n",
            "Requirement already satisfied: pyngrok in /usr/local/lib/python3.12/dist-packages (7.4.1)\n",
            "Requirement already satisfied: tensorflow in /usr/local/lib/python3.12/dist-packages (2.19.0)\n",
            "Requirement already satisfied: tensorflow_hub in /usr/local/lib/python3.12/dist-packages (0.16.1)\n",
            "Requirement already satisfied: blinker>=1.9.0 in /usr/local/lib/python3.12/dist-packages (from flask) (1.9.0)\n",
            "Requirement already satisfied: click>=8.1.3 in /usr/local/lib/python3.12/dist-packages (from flask) (8.3.0)\n",
            "Requirement already satisfied: itsdangerous>=2.2.0 in /usr/local/lib/python3.12/dist-packages (from flask) (2.2.0)\n",
            "Requirement already satisfied: jinja2>=3.1.2 in /usr/local/lib/python3.12/dist-packages (from flask) (3.1.6)\n",
            "Requirement already satisfied: markupsafe>=2.1.1 in /usr/local/lib/python3.12/dist-packages (from flask) (3.0.3)\n",
            "Requirement already satisfied: werkzeug>=3.1.0 in /usr/local/lib/python3.12/dist-packages (from flask) (3.1.3)\n",
            "Requirement already satisfied: PyYAML>=5.1 in /usr/local/lib/python3.12/dist-packages (from pyngrok) (6.0.3)\n",
            "Requirement already satisfied: absl-py>=1.0.0 in /usr/local/lib/python3.12/dist-packages (from tensorflow) (1.4.0)\n",
            "Requirement already satisfied: astunparse>=1.6.0 in /usr/local/lib/python3.12/dist-packages (from tensorflow) (1.6.3)\n",
            "Requirement already satisfied: flatbuffers>=24.3.25 in /usr/local/lib/python3.12/dist-packages (from tensorflow) (25.9.23)\n",
            "Requirement already satisfied: gast!=0.5.0,!=0.5.1,!=0.5.2,>=0.2.1 in /usr/local/lib/python3.12/dist-packages (from tensorflow) (0.6.0)\n",
            "Requirement already satisfied: google-pasta>=0.1.1 in /usr/local/lib/python3.12/dist-packages (from tensorflow) (0.2.0)\n",
            "Requirement already satisfied: libclang>=13.0.0 in /usr/local/lib/python3.12/dist-packages (from tensorflow) (18.1.1)\n",
            "Requirement already satisfied: opt-einsum>=2.3.2 in /usr/local/lib/python3.12/dist-packages (from tensorflow) (3.4.0)\n",
            "Requirement already satisfied: packaging in /usr/local/lib/python3.12/dist-packages (from tensorflow) (25.0)\n",
            "Requirement already satisfied: protobuf!=4.21.0,!=4.21.1,!=4.21.2,!=4.21.3,!=4.21.4,!=4.21.5,<6.0.0dev,>=3.20.3 in /usr/local/lib/python3.12/dist-packages (from tensorflow) (5.29.5)\n",
            "Requirement already satisfied: requests<3,>=2.21.0 in /usr/local/lib/python3.12/dist-packages (from tensorflow) (2.32.4)\n",
            "Requirement already satisfied: setuptools in /usr/local/lib/python3.12/dist-packages (from tensorflow) (75.2.0)\n",
            "Requirement already satisfied: six>=1.12.0 in /usr/local/lib/python3.12/dist-packages (from tensorflow) (1.17.0)\n",
            "Requirement already satisfied: termcolor>=1.1.0 in /usr/local/lib/python3.12/dist-packages (from tensorflow) (3.1.0)\n",
            "Requirement already satisfied: typing-extensions>=3.6.6 in /usr/local/lib/python3.12/dist-packages (from tensorflow) (4.15.0)\n",
            "Requirement already satisfied: wrapt>=1.11.0 in /usr/local/lib/python3.12/dist-packages (from tensorflow) (2.0.0)\n",
            "Requirement already satisfied: grpcio<2.0,>=1.24.3 in /usr/local/lib/python3.12/dist-packages (from tensorflow) (1.75.1)\n",
            "Requirement already satisfied: tensorboard~=2.19.0 in /usr/local/lib/python3.12/dist-packages (from tensorflow) (2.19.0)\n",
            "Requirement already satisfied: keras>=3.5.0 in /usr/local/lib/python3.12/dist-packages (from tensorflow) (3.10.0)\n",
            "Requirement already satisfied: numpy<2.2.0,>=1.26.0 in /usr/local/lib/python3.12/dist-packages (from tensorflow) (2.0.2)\n",
            "Requirement already satisfied: h5py>=3.11.0 in /usr/local/lib/python3.12/dist-packages (from tensorflow) (3.15.1)\n",
            "Requirement already satisfied: ml-dtypes<1.0.0,>=0.5.1 in /usr/local/lib/python3.12/dist-packages (from tensorflow) (0.5.3)\n",
            "Requirement already satisfied: tf-keras>=2.14.1 in /usr/local/lib/python3.12/dist-packages (from tensorflow_hub) (2.19.0)\n",
            "Requirement already satisfied: wheel<1.0,>=0.23.0 in /usr/local/lib/python3.12/dist-packages (from astunparse>=1.6.0->tensorflow) (0.45.1)\n",
            "Requirement already satisfied: rich in /usr/local/lib/python3.12/dist-packages (from keras>=3.5.0->tensorflow) (13.9.4)\n",
            "Requirement already satisfied: namex in /usr/local/lib/python3.12/dist-packages (from keras>=3.5.0->tensorflow) (0.1.0)\n",
            "Requirement already satisfied: optree in /usr/local/lib/python3.12/dist-packages (from keras>=3.5.0->tensorflow) (0.17.0)\n",
            "Requirement already satisfied: charset_normalizer<4,>=2 in /usr/local/lib/python3.12/dist-packages (from requests<3,>=2.21.0->tensorflow) (3.4.4)\n",
            "Requirement already satisfied: idna<4,>=2.5 in /usr/local/lib/python3.12/dist-packages (from requests<3,>=2.21.0->tensorflow) (3.11)\n",
            "Requirement already satisfied: urllib3<3,>=1.21.1 in /usr/local/lib/python3.12/dist-packages (from requests<3,>=2.21.0->tensorflow) (2.5.0)\n",
            "Requirement already satisfied: certifi>=2017.4.17 in /usr/local/lib/python3.12/dist-packages (from requests<3,>=2.21.0->tensorflow) (2025.10.5)\n",
            "Requirement already satisfied: markdown>=2.6.8 in /usr/local/lib/python3.12/dist-packages (from tensorboard~=2.19.0->tensorflow) (3.9)\n",
            "Requirement already satisfied: tensorboard-data-server<0.8.0,>=0.7.0 in /usr/local/lib/python3.12/dist-packages (from tensorboard~=2.19.0->tensorflow) (0.7.2)\n",
            "Requirement already satisfied: markdown-it-py>=2.2.0 in /usr/local/lib/python3.12/dist-packages (from rich->keras>=3.5.0->tensorflow) (4.0.0)\n",
            "Requirement already satisfied: pygments<3.0.0,>=2.13.0 in /usr/local/lib/python3.12/dist-packages (from rich->keras>=3.5.0->tensorflow) (2.19.2)\n",
            "Requirement already satisfied: mdurl~=0.1 in /usr/local/lib/python3.12/dist-packages (from markdown-it-py>=2.2.0->rich->keras>=3.5.0->tensorflow) (0.1.2)\n"
          ]
        }
      ]
    },
    {
      "cell_type": "code",
      "source": [
        "# Cell 2: Authenticate ngrok\n",
        "from pyngrok import ngrok\n",
        "import getpass\n",
        "\n",
        "# Get your authtoken from the ngrok dashboard\n",
        "authtoken = getpass.getpass(\"Paste your ngrok authtoken here: \")\n",
        "ngrok.set_auth_token(authtoken)"
      ],
      "metadata": {
        "colab": {
          "base_uri": "https://localhost:8080/"
        },
        "id": "6v7gjuI8wjYD",
        "outputId": "d8d7bf85-4eab-469b-8e38-ffdf21594270"
      },
      "execution_count": 2,
      "outputs": [
        {
          "name": "stdout",
          "output_type": "stream",
          "text": [
            "Paste your ngrok authtoken here: ··········\n"
          ]
        }
      ]
    },
    {
      "cell_type": "code",
      "source": [
        "# Cell 3: Create the HTML Webpage\n",
        "\n",
        "!mkdir -p templates\n",
        "print(\"Creating new index.html file...\")"
      ],
      "metadata": {
        "colab": {
          "base_uri": "https://localhost:8080/"
        },
        "id": "BDix9YeswuTt",
        "outputId": "03b155c7-8777-4333-8a5e-e309b8072a28"
      },
      "execution_count": 3,
      "outputs": [
        {
          "output_type": "stream",
          "name": "stdout",
          "text": [
            "Creating new index.html file...\n"
          ]
        }
      ]
    },
    {
      "cell_type": "code",
      "source": [
        "%%writefile templates/index.html\n",
        "<!DOCTYPE html>\n",
        "<html lang=\"en\">\n",
        "<head>\n",
        "    <meta charset=\"UTF-8\">\n",
        "    <meta name=\"viewport\" content=\"width=device-width, initial-scale=1.0\">\n",
        "    <title>AI Style Mixer</title>\n",
        "    <style>\n",
        "        body { font-family: -apple-system, BlinkMacSystemFont, \"Segoe UI\", Roboto, Helvetica, Arial, sans-serif; background-color: #f4f7f6; color: #333; display: flex; justify-content: center; align-items: flex-start; padding: 20px; min-height: 100vh; }\n",
        "        .container { width: 100%; max-width: 1000px; background-color: #ffffff; padding: 30px; border-radius: 12px; box-shadow: 0 8px 30px rgba(0,0,0,0.05); text-align: center; }\n",
        "        h1 { color: #2c3e50; margin-bottom: 10px; }\n",
        "        p { color: #7f8c8d; margin-bottom: 25px; }\n",
        "        form { margin-bottom: 30px; border: 1px solid #eee; padding: 25px; border-radius: 10px; background-color: #fdfdfd; }\n",
        "\n",
        "        .upload-section {\n",
        "            display: flex;\n",
        "            justify-content: space-around;\n",
        "            gap: 20px;\n",
        "            margin-bottom: 20px;\n",
        "        }\n",
        "        .upload-box {\n",
        "            flex: 1;\n",
        "            padding: 15px;\n",
        "            border: 2px dashed #3498db;\n",
        "            border-radius: 8px;\n",
        "        }\n",
        "        .upload-box label { font-weight: bold; color: #34495e; display: block; margin-bottom: 10px; }\n",
        "\n",
        "        input[type=\"file\"] { width: 100%; }\n",
        "        input[type=\"submit\"] { display: block; width: 100%; padding: 15px; font-size: 18px; font-weight: bold; color: #fff; background-color: #3498db; border: none; border-radius: 8px; cursor: pointer; transition: background-color 0.3s ease; margin-top: 20px; }\n",
        "        input[type=\"submit\"]:hover { background-color: #2980b9; }\n",
        "        #loader { display: none; margin-top: 20px; }\n",
        "        #loader p { font-size: 18px; color: #7f8c8d; }\n",
        "\n",
        "        .image-results { display: flex; flex-wrap: wrap; justify-content: center; gap: 20px; margin-top: 30px; }\n",
        "        .image-box { flex: 1; min-width: 250px; max-width: 32%; text-align: center; background-color: #fafafa; padding: 15px; border-radius: 8px; box-shadow: 0 2px 10px rgba(0,0,0,0.05); }\n",
        "        .image-box h3 { color: #34495e; margin-bottom: 10px; }\n",
        "        .image-box img { max-width: 100%; height: auto; border-radius: 6px; border: 1px solid #ddd; }\n",
        "\n",
        "        @media (max-width: 768px) {\n",
        "            .upload-section { flex-direction: column; }\n",
        "            .image-box { max-width: 100%; }\n",
        "        }\n",
        "    </style>\n",
        "</head>\n",
        "<body>\n",
        "    <div class=\"container\">\n",
        "        <h1>AI Style Mixer 🎨</h1>\n",
        "        <p>Upload a **Content** image and a **Style** image to create a masterpiece!</p>\n",
        "\n",
        "        <form action=\"/stylize\" method=\"POST\" enctype=\"multipart/form-data\" onsubmit=\"showLoader()\">\n",
        "            <div class=\"upload-section\">\n",
        "                <div class=\"upload-box\">\n",
        "                    <label for=\"content_image\">1. Upload Your Content Image</label>\n",
        "                    <input type=\"file\" name=\"content_image\" id=\"content_image\" accept=\"image/*\" required>\n",
        "                </div>\n",
        "                <div class=\"upload-box\">\n",
        "                    <label for=\"style_image\">2. Upload Your Style Image</label>\n",
        "                    <input type=\"file\" name=\"style_image\" id=\"style_image\" accept=\"image/*\" required>\n",
        "                </div>\n",
        "            </div>\n",
        "            <input type=\"submit\" value=\"Mix the Styles!\">\n",
        "        </form>\n",
        "\n",
        "        <div id=\"loader\">\n",
        "            <p>🖌️ Please wait... The AI is painting your image...</p>\n",
        "        </div>\n",
        "\n",
        "        {% if content_image_b64 and style_image_b64 and stylized_image_b64 %}\n",
        "        <div class=\"image-results\">\n",
        "            <div class=\"image-box\">\n",
        "                <h3>1. Your Content</h3>\n",
        "                <img src=\"data:image/jpeg;base64,{{ content_image_b64 }}\" alt=\"Original Image\">\n",
        "            </div>\n",
        "            <div class=\"image-box\">\n",
        "                <h3>2. Your Style</h3>\n",
        "                <img src=\"data:image/jpeg;base64,{{ style_image_b64 }}\" alt=\"Style Image\">\n",
        "            </div>\n",
        "            <div class=\"image-box\">\n",
        "                <h3>3. Your AI Art</h3>\n",
        "                <img src=\"data:image/jpeg;base64,{{ stylized_image_b64 }}\" alt=\"Stylized Image\">\n",
        "            </div>\n",
        "        </div>\n",
        "        {% endif %}\n",
        "    </div>\n",
        "\n",
        "    <script>\n",
        "        function showLoader() {\n",
        "            document.getElementById('loader').style.display = 'block';\n",
        "            document.querySelector('input[type=\"submit\"]').disabled = true;\n",
        "            document.querySelector('input[type=\"submit\"]').value = 'Processing...';\n",
        "        }\n",
        "        window.onload = function() {\n",
        "            if (document.querySelector('.image-results')) {\n",
        "                document.getElementById('loader').style.display = 'none';\n",
        "            }\n",
        "        };\n",
        "    </script>\n",
        "</body>\n",
        "</html>"
      ],
      "metadata": {
        "colab": {
          "base_uri": "https://localhost:8080/"
        },
        "id": "E-9P51iFw0_1",
        "outputId": "17a79363-dc70-4b99-d2c6-34bd963b4f0b"
      },
      "execution_count": 4,
      "outputs": [
        {
          "output_type": "stream",
          "name": "stdout",
          "text": [
            "Overwriting templates/index.html\n"
          ]
        }
      ]
    },
    {
      "cell_type": "code",
      "source": [
        "# Cell 4 (FINAL): Run the \"AI Style Mixer\" App\n",
        "\n",
        "import os\n",
        "import tensorflow as tf\n",
        "\n",
        "# --- THIS IS THE FIX ---\n",
        "# We create a new, clean cache directory and force TF_HUB to use it.\n",
        "# This guarantees the *one* model we need will download cleanly.\n",
        "new_cache_dir = '/content/tf_cache'\n",
        "!mkdir -p {new_cache_dir}\n",
        "os.environ['TFHUB_CACHE_DIR'] = new_cache_dir\n",
        "print(f\"Forcing TensorFlow Hub to use new, clean cache: {new_cache_dir}\")\n",
        "# --- END OF FIX ---\n",
        "\n",
        "from flask import Flask, request, render_template\n",
        "import tensorflow_hub as hub\n",
        "import numpy as np\n",
        "from PIL import Image\n",
        "import threading\n",
        "import io\n",
        "import base64\n",
        "from pyngrok import ngrok # Import ngrok here\n",
        "\n",
        "# --- 1. Helper Functions for Image Processing ---\n",
        "\n",
        "def load_img_from_stream(stream):\n",
        "    \"\"\"Loads an image from an UPLOAD STREAM and prepares it.\"\"\"\n",
        "    max_dim = 512\n",
        "    img = Image.open(stream).convert('RGB')\n",
        "    img = np.array(img)\n",
        "    img = tf.convert_to_tensor(img)\n",
        "    img = tf.image.convert_image_dtype(img, tf.float32)\n",
        "    shape = tf.cast(tf.shape(img)[:-1], tf.float32)\n",
        "    long_dim = max(shape)\n",
        "    scale = max_dim / long_dim\n",
        "    new_shape = tf.cast(shape * scale, tf.int32)\n",
        "    img = tf.image.resize(img, new_shape)\n",
        "    img = img[tf.newaxis, :]\n",
        "    return img\n",
        "\n",
        "def tensor_to_base64_string(tensor):\n",
        "    \"\"\"Converts the output image tensor (range [0,1]) to a base64 string.\"\"\"\n",
        "    tensor = tensor * 255\n",
        "    tensor = np.array(tensor, dtype=np.uint8)\n",
        "    if np.ndim(tensor) > 3:\n",
        "        tensor = tensor[0]\n",
        "\n",
        "    pil_img = Image.fromarray(tensor)\n",
        "    buff = io.BytesIO()\n",
        "    pil_img.save(buff, format=\"JPEG\")\n",
        "    base64_string = base64.b64encode(buff.getvalue()).decode(\"utf-8\")\n",
        "    return base64_string\n",
        "\n",
        "# --- 2. Load the ONE Model We Need ---\n",
        "print(\"Loading ML Style Transfer model...\")\n",
        "# This will be a fresh, clean download to our new cache dir.\n",
        "style_transfer_model = hub.load('https://tfhub.dev/google/magenta/arbitrary-image-stylization-v1-256/2')\n",
        "print(\"Style Transfer model loaded.\")\n",
        "\n",
        "# --- 3. Initialize the Flask App ---\n",
        "app = Flask(__name__)\n",
        "\n",
        "@app.route('/')\n",
        "def home():\n",
        "    \"\"\"Serves the main page.\"\"\"\n",
        "    return render_template('index.html')\n",
        "\n",
        "@app.route('/stylize', methods=['POST'])\n",
        "def stylize_image():\n",
        "    \"\"\"Handles the image upload, runs the model, and shows the result.\"\"\"\n",
        "    try:\n",
        "        # --- Part 1: Load User's Images ---\n",
        "        content_file = request.files['content_image']\n",
        "        style_file = request.files['style_image']\n",
        "\n",
        "        content_image_tensor = load_img_from_stream(content_file.stream) # Range [0,1]\n",
        "        style_image_tensor = load_img_from_stream(style_file.stream) # Range [0,1]\n",
        "\n",
        "        # --- Part 2: ML Applies the Style ---\n",
        "        print(\"Applying user-provided style to content image...\")\n",
        "        stylized_image_tensor = style_transfer_model(\n",
        "            tf.constant(content_image_tensor),\n",
        "            tf.constant(style_image_tensor)\n",
        "        )[0] # Output is [0,1]\n",
        "        print(\"Stylization complete.\")\n",
        "\n",
        "        # --- Part 3: Convert all 3 images for display ---\n",
        "        content_image_b64 = tensor_to_base64_string(content_image_tensor)\n",
        "        style_image_b64 = tensor_to_base64_string(style_image_tensor)\n",
        "        stylized_image_b64 = tensor_to_base64_string(stylized_image_tensor)\n",
        "\n",
        "        return render_template('index.html',\n",
        "                               content_image_b64=content_image_b64,\n",
        "                               style_image_b64=style_image_b64,\n",
        "                               stylized_image_b64=stylized_image_b64)\n",
        "\n",
        "    except Exception as e:\n",
        "        print(f\"Error during stylization: {e}\")\n",
        "        return f\"An error occurred: {e}. Please try again.\", 500\n",
        "\n",
        "# --- 4. Start the App and Tunnel ---\n",
        "def run_flask_app():\n",
        "    print(\"Starting Flask app...\")\n",
        "    app.run(port=5000, debug=False, use_reloader=False)\n",
        "\n",
        "flask_thread = threading.Thread(target=run_flask_app)\n",
        "flask_thread.daemon = True\n",
        "flask_thread.start()\n",
        "\n",
        "print(\"Connecting to ngrok...\")\n",
        "try:\n",
        "    ngrok.kill()\n",
        "except Exception:\n",
        "    pass\n",
        "public_url = ngrok.connect(5000)\n",
        "print(f\" * Your AI Artist app is live at: {public_url}\")\n",
        "print(\" * (Click the URL above to open your app. This cell will keep running.)\")"
      ],
      "metadata": {
        "colab": {
          "base_uri": "https://localhost:8080/"
        },
        "id": "WgltOPRdw7ea",
        "outputId": "0099e388-38c1-4d9c-e8d6-080380fee2c4"
      },
      "execution_count": 6,
      "outputs": [
        {
          "output_type": "stream",
          "name": "stdout",
          "text": [
            "Forcing TensorFlow Hub to use new, clean cache: /content/tf_cache\n",
            "Loading ML Style Transfer model...\n",
            "Style Transfer model loaded.\n",
            "Starting Flask app...\n",
            "Connecting to ngrok...\n",
            " * Serving Flask app '__main__'\n",
            " * Debug mode: off\n"
          ]
        },
        {
          "output_type": "stream",
          "name": "stderr",
          "text": [
            "Address already in use\n",
            "Port 5000 is in use by another program. Either identify and stop that program, or start the server with a different port.\n"
          ]
        },
        {
          "output_type": "stream",
          "name": "stdout",
          "text": [
            " * Your AI Artist app is live at: NgrokTunnel: \"https://unstraddled-katia-eyelike.ngrok-free.dev\" -> \"http://localhost:5000\"\n",
            " * (Click the URL above to open your app. This cell will keep running.)\n"
          ]
        }
      ]
    },
    {
      "cell_type": "code",
      "source": [],
      "metadata": {
        "id": "tnWGywyirtc0"
      },
      "execution_count": 5,
      "outputs": []
    },
    {
      "cell_type": "code",
      "source": [],
      "metadata": {
        "id": "A70hP45TrtJt"
      },
      "execution_count": 5,
      "outputs": []
    }
  ]
}